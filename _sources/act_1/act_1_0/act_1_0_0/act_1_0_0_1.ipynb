{
 "cells": [
  {
   "cell_type": "markdown",
   "metadata": {},
   "source": [
    "# 11/11/08\n",
    "\n",
    "16,447 as of 09/16/2023\n",
    "\n",
    "```text\n",
    "1. Control 1,2 (drop NHANEs Ikilezi)\n",
    "2. Same order for figures\n",
    "3. 3sections (results)\n",
    "\n",
    "Presets, Nov 9/10th\n",
    "\n",
    "Methods, results, bullets \n",
    "\n",
    "Control-1, Control-2, ALIVE\n",
    "[Race-Educ-Smoke]-HCV, Smoke-HCV, Age-Sex-Race-Educ-Smoke-HCV\n",
    "YPLL to Race +/- Educ, YPLL to HCV+/-Smoke, IDU risks\n",
    "Access issues/Chronic disease risk, Overdose, Overdose/HIV\n",
    "Chronic disease, Overdose, AIDS\n",
    "\n",
    "1. IDU risk as heterogenous\n",
    "2. HCV as a surrogate of IDU\n",
    "3. Race/Education as a surrogate of SES\n",
    "\n",
    "\n",
    "Mortality \n",
    "Relative Mortality\n",
    "General Population (Age, Gender, Race adjusted)\n",
    "---\n",
    "Select sample from general population \n",
    "Similar to ALIVE, but not HCV infected\n",
    "Impact of SES\n",
    "---\n",
    "ALIVE\n",
    "HCV (30% with HIV)\n",
    "Impact of IDU\n",
    "```\n",
    "\n",
    "\n",
    "\n"
   ]
  }
 ],
 "metadata": {
  "kernelspec": {
   "display_name": "Python 3",
   "language": "python",
   "name": "python3"
  },
  "language_info": {
   "codemirror_mode": {
    "name": "ipython",
    "version": 3
   },
   "file_extension": ".py",
   "mimetype": "text/x-python",
   "name": "python",
   "nbconvert_exporter": "python",
   "pygments_lexer": "ipython3",
   "version": "3.11.2"
  },
  "orig_nbformat": 4
 },
 "nbformat": 4,
 "nbformat_minor": 2
}
